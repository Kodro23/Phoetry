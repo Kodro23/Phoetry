{
 "cells": [
  {
   "cell_type": "code",
   "execution_count": 12,
   "id": "cb215be4",
   "metadata": {},
   "outputs": [
    {
     "data": {
      "text/plain": [
       "['lzabar/phoetry/models_finetuned/haiku/added_tokens.json',\n",
       " 'lzabar/phoetry/models_finetuned/haiku/config.json',\n",
       " 'lzabar/phoetry/models_finetuned/haiku/generation_config.json',\n",
       " 'lzabar/phoetry/models_finetuned/haiku/merges.txt',\n",
       " 'lzabar/phoetry/models_finetuned/haiku/metadata.json',\n",
       " 'lzabar/phoetry/models_finetuned/haiku/model.safetensors',\n",
       " 'lzabar/phoetry/models_finetuned/haiku/special_tokens_map.json',\n",
       " 'lzabar/phoetry/models_finetuned/haiku/tokenizer_config.json',\n",
       " 'lzabar/phoetry/models_finetuned/haiku/vocab.json']"
      ]
     },
     "execution_count": 12,
     "metadata": {},
     "output_type": "execute_result"
    }
   ],
   "source": [
    "import os\n",
    "import json\n",
    "from datetime import datetime\n",
    "import s3fs\n",
    "import pandas as pd\n",
    "\n",
    "MY_BUCKET = \"lzabar\"\n",
    "poem_type = \"haiku\"\n",
    "\n",
    "CHEMIN_FICHIER = f\"{MY_BUCKET}/phoetry/models_finetuned/{poem_type}\"\n",
    "\n",
    "fs = s3fs.S3FileSystem(\n",
    "    client_kwargs={'endpoint_url': 'https://'+'minio.lab.sspcloud.fr'}\n",
    "    )\n",
    "\n",
    "fs.ls(CHEMIN_FICHIER)"
   ]
  },
  {
   "cell_type": "code",
   "execution_count": null,
   "id": "c2e9700b",
   "metadata": {},
   "outputs": [
    {
     "name": "stderr",
     "output_type": "stream",
     "text": [
      "/tmp/ipykernel_2063/1419907293.py:8: DeprecationWarning: datetime.datetime.utcnow() is deprecated and scheduled for removal in a future version. Use timezone-aware objects to represent datetimes in UTC: datetime.datetime.now(datetime.UTC).\n",
      "  \"date_of_release\": datetime.utcnow().isoformat(),\n"
     ]
    }
   ],
   "source": [
    "files = fs.ls(CHEMIN_FICHIER)\n",
    "\n",
    "metadata = {\n",
    "            \"name\": f\"gpt2_en_{poem_type}\",\n",
    "            \"description\": f\"GPT-2 model fine-tuned for generating {poem_type} poems\",\n",
    "            \"version\": \"1.0\",\n",
    "            \"status\": \"trained\",\n",
    "            \"date_of_release\": datetime.utcnow().isoformat(),\n",
    "            \"URL\": \"paultoudret/ensae-reproductibilite/Phoetry/Poem_models/\",\n",
    "            \"files\": [os.path.basename(f) for f in files]\n",
    "        }\n",
    "\n",
    "with open(f\"metadata_{poem_type}.json\", \"w\") as f:\n",
    "    json.dump(metadata, f, indent=4)\n",
    "\n",
    "# Upload vers S3\n",
    "fs.put(f\"metadata_{poem_type}.json\", f\"{CHEMIN_FICHIER}/metadata.json\")"
   ]
  },
  {
   "cell_type": "code",
   "execution_count": null,
   "id": "98993f76",
   "metadata": {},
   "outputs": [],
   "source": [
    "laure_json_path = \"metadata_haiku.json\"\n",
    "paul_path = \"s3://paultoudret/ensae-reproductibilite/Phoetry/Poem_models/metadata.json\"\n",
    "\n",
    "fs = s3fs.S3FileSystem(\n",
    "    key=\"Phoetry_ENSAE_20252\",\n",
    "    secret=\"AnnePaulLaure25cd Phoetry/\",\n",
    "    client_kwargs={\"endpoint_url\": \"https://minio.lab.sspcloud.fr\"}\n",
    ")\n",
    "\n",
    "fs.put(laure_json_path, paul_path)\n",
    "print(f\"JSON uploaded to {paul_path}\")"
   ]
  }
 ],
 "metadata": {
  "kernelspec": {
   "display_name": "base",
   "language": "python",
   "name": "python3"
  },
  "language_info": {
   "codemirror_mode": {
    "name": "ipython",
    "version": 3
   },
   "file_extension": ".py",
   "mimetype": "text/x-python",
   "name": "python",
   "nbconvert_exporter": "python",
   "pygments_lexer": "ipython3",
   "version": "3.12.9"
  }
 },
 "nbformat": 4,
 "nbformat_minor": 5
}
