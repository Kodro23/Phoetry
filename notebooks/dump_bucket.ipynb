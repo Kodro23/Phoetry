{
 "cells": [
  {
   "cell_type": "code",
   "execution_count": 7,
   "id": "cb215be4",
   "metadata": {},
   "outputs": [
    {
     "data": {
      "text/plain": [
       "['lzabar/phoetry/models_finetuned/arg_poem_gpt.json',\n",
       " 'lzabar/phoetry/models_finetuned/classic',\n",
       " 'lzabar/phoetry/models_finetuned/haiku']"
      ]
     },
     "execution_count": 7,
     "metadata": {},
     "output_type": "execute_result"
    }
   ],
   "source": [
    "import os\n",
    "import json\n",
    "from datetime import datetime\n",
    "import s3fs\n",
    "import pandas as pd\n",
    "\n",
    "MY_BUCKET = \"lzabar\"\n",
    "\n",
    "CHEMIN_FICHIER = f\"{MY_BUCKET}/phoetry/models_finetuned\"\n",
    "\n",
    "fs = s3fs.S3FileSystem(\n",
    "    client_kwargs={'endpoint_url': 'https://'+'minio.lab.sspcloud.fr'}\n",
    "    )\n",
    "\n",
    "fs.ls(CHEMIN_FICHIER)"
   ]
  },
  {
   "cell_type": "code",
   "execution_count": 10,
   "id": "c2e9700b",
   "metadata": {},
   "outputs": [
    {
     "data": {
      "text/plain": [
       "[None]"
      ]
     },
     "execution_count": 10,
     "metadata": {},
     "output_type": "execute_result"
    }
   ],
   "source": [
    "# Upload vers S3\n",
    "fs.put(f\"arg_poem_gpt.json\", f\"{CHEMIN_FICHIER}/model_params.json\")"
   ]
  },
  {
   "cell_type": "code",
   "execution_count": null,
   "id": "98993f76",
   "metadata": {},
   "outputs": [],
   "source": [
    "laure_json_path = \"metadata_haiku.json\"\n",
    "paul_path = \"s3://paultoudret/ensae-reproductibilite/Phoetry/Poem_models/metadata.json\"\n",
    "\n",
    "fs = s3fs.S3FileSystem(\n",
    "    key=\"Phoetry_ENSAE_20252\",\n",
    "    secret=\"AnnePaulLaure25cd Phoetry/\",\n",
    "    client_kwargs={\"endpoint_url\": \"https://minio.lab.sspcloud.fr\"}\n",
    ")\n",
    "\n",
    "fs.put(laure_json_path, paul_path)\n",
    "print(f\"JSON uploaded to {paul_path}\")"
   ]
  },
  {
   "cell_type": "code",
   "execution_count": 11,
   "id": "6f2c4050",
   "metadata": {},
   "outputs": [],
   "source": [
    "import os\n",
    "import json\n",
    "from datetime import datetime\n",
    "import s3fs\n",
    "import pandas as pd"
   ]
  },
  {
   "cell_type": "code",
   "execution_count": 12,
   "id": "ee784540",
   "metadata": {},
   "outputs": [
    {
     "name": "stdout",
     "output_type": "stream",
     "text": [
      "JSON uploaded to s3://paultoudret/ensae-reproductibilite/Phoetry/Poem_models/\n"
     ]
    }
   ],
   "source": [
    "\n",
    "\n",
    "\n",
    "laure_json_path = \"model_params.json\"\n",
    "paul_path = \"s3://paultoudret/ensae-reproductibilite/Phoetry/Poem_models/\"\n",
    "\n",
    "fs = s3fs.S3FileSystem(\n",
    "    key=\"Phoetry_ENSAE_20252\",\n",
    "    secret=\"AnnePaulLaure25cd Phoetry/\",\n",
    "    client_kwargs={\"endpoint_url\": \"https://minio.lab.sspcloud.fr\"}\n",
    ")\n",
    "\n",
    "fs.put(laure_json_path, paul_path)\n",
    "print(f\"JSON uploaded to {paul_path}\")"
   ]
  },
  {
   "cell_type": "code",
   "execution_count": null,
   "id": "d77fe5b1",
   "metadata": {},
   "outputs": [],
   "source": []
  }
 ],
 "metadata": {
  "kernelspec": {
   "display_name": "base",
   "language": "python",
   "name": "python3"
  },
  "language_info": {
   "codemirror_mode": {
    "name": "ipython",
    "version": 3
   },
   "file_extension": ".py",
   "mimetype": "text/x-python",
   "name": "python",
   "nbconvert_exporter": "python",
   "pygments_lexer": "ipython3",
   "version": "3.12.9"
  }
 },
 "nbformat": 4,
 "nbformat_minor": 5
}
