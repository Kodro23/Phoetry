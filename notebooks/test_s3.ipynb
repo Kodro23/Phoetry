{
 "cells": [
  {
   "cell_type": "code",
   "execution_count": 5,
   "metadata": {},
   "outputs": [
    {
     "ename": "PermissionError",
     "evalue": "The Access Key Id you provided does not exist in our records.",
     "output_type": "error",
     "traceback": [
      "\u001b[31m---------------------------------------------------------------------------\u001b[39m",
      "\u001b[31mClientError\u001b[39m                               Traceback (most recent call last)",
      "\u001b[36mFile \u001b[39m\u001b[32m/opt/conda/lib/python3.12/site-packages/s3fs/core.py:755\u001b[39m, in \u001b[36mS3FileSystem._lsdir\u001b[39m\u001b[34m(self, path, refresh, max_items, delimiter, prefix, versions)\u001b[39m\n\u001b[32m    754\u001b[39m files = []\n\u001b[32m--> \u001b[39m\u001b[32m755\u001b[39m \u001b[38;5;28;01masync\u001b[39;00m \u001b[38;5;28;01mfor\u001b[39;00m c \u001b[38;5;129;01min\u001b[39;00m \u001b[38;5;28mself\u001b[39m._iterdir(\n\u001b[32m    756\u001b[39m     bucket,\n\u001b[32m    757\u001b[39m     max_items=max_items,\n\u001b[32m    758\u001b[39m     delimiter=delimiter,\n\u001b[32m    759\u001b[39m     prefix=prefix,\n\u001b[32m    760\u001b[39m     versions=versions,\n\u001b[32m    761\u001b[39m ):\n\u001b[32m    762\u001b[39m     \u001b[38;5;28;01mif\u001b[39;00m c[\u001b[33m\"\u001b[39m\u001b[33mtype\u001b[39m\u001b[33m\"\u001b[39m] == \u001b[33m\"\u001b[39m\u001b[33mdirectory\u001b[39m\u001b[33m\"\u001b[39m:\n",
      "\u001b[36mFile \u001b[39m\u001b[32m/opt/conda/lib/python3.12/site-packages/s3fs/core.py:805\u001b[39m, in \u001b[36mS3FileSystem._iterdir\u001b[39m\u001b[34m(self, bucket, max_items, delimiter, prefix, versions)\u001b[39m\n\u001b[32m    798\u001b[39m it = pag.paginate(\n\u001b[32m    799\u001b[39m     Bucket=bucket,\n\u001b[32m    800\u001b[39m     Prefix=prefix,\n\u001b[32m   (...)\u001b[39m\u001b[32m    803\u001b[39m     **\u001b[38;5;28mself\u001b[39m.req_kw,\n\u001b[32m    804\u001b[39m )\n\u001b[32m--> \u001b[39m\u001b[32m805\u001b[39m \u001b[38;5;28;01masync\u001b[39;00m \u001b[38;5;28;01mfor\u001b[39;00m i \u001b[38;5;129;01min\u001b[39;00m it:\n\u001b[32m    806\u001b[39m     \u001b[38;5;28;01mfor\u001b[39;00m l \u001b[38;5;129;01min\u001b[39;00m i.get(\u001b[33m\"\u001b[39m\u001b[33mCommonPrefixes\u001b[39m\u001b[33m\"\u001b[39m, []):\n",
      "\u001b[36mFile \u001b[39m\u001b[32m/opt/conda/lib/python3.12/site-packages/aiobotocore/paginate.py:30\u001b[39m, in \u001b[36mAioPageIterator.__anext__\u001b[39m\u001b[34m(self)\u001b[39m\n\u001b[32m     29\u001b[39m \u001b[38;5;28;01mwhile\u001b[39;00m \u001b[38;5;28;01mTrue\u001b[39;00m:\n\u001b[32m---> \u001b[39m\u001b[32m30\u001b[39m     response = \u001b[38;5;28;01mawait\u001b[39;00m \u001b[38;5;28mself\u001b[39m._make_request(current_kwargs)\n\u001b[32m     31\u001b[39m     parsed = \u001b[38;5;28mself\u001b[39m._extract_parsed_response(response)\n",
      "\u001b[36mFile \u001b[39m\u001b[32m/opt/conda/lib/python3.12/site-packages/aiobotocore/client.py:412\u001b[39m, in \u001b[36mAioBaseClient._make_api_call\u001b[39m\u001b[34m(self, operation_name, api_params)\u001b[39m\n\u001b[32m    411\u001b[39m     error_class = \u001b[38;5;28mself\u001b[39m.exceptions.from_code(error_code)\n\u001b[32m--> \u001b[39m\u001b[32m412\u001b[39m     \u001b[38;5;28;01mraise\u001b[39;00m error_class(parsed_response, operation_name)\n\u001b[32m    413\u001b[39m \u001b[38;5;28;01melse\u001b[39;00m:\n",
      "\u001b[31mClientError\u001b[39m: An error occurred (InvalidAccessKeyId) when calling the ListObjectsV2 operation: The Access Key Id you provided does not exist in our records.",
      "\nThe above exception was the direct cause of the following exception:\n",
      "\u001b[31mPermissionError\u001b[39m                           Traceback (most recent call last)",
      "\u001b[36mCell\u001b[39m\u001b[36m \u001b[39m\u001b[32mIn[5]\u001b[39m\u001b[32m, line 14\u001b[39m\n\u001b[32m      6\u001b[39m CHEMIN_FICHIER = \u001b[33m\"\u001b[39m\u001b[33mpaultoudret/ensae-reproductibilite/Phoetry/Poem_models/poet_gpt2/\u001b[39m\u001b[33m\"\u001b[39m\n\u001b[32m      8\u001b[39m fs = s3fs.S3FileSystem(\n\u001b[32m      9\u001b[39m     client_kwargs={\u001b[33m'\u001b[39m\u001b[33mendpoint_url\u001b[39m\u001b[33m'\u001b[39m: \u001b[33m'\u001b[39m\u001b[33mhttps://\u001b[39m\u001b[33m'\u001b[39m+\u001b[33m'\u001b[39m\u001b[33mminio.lab.sspcloud.fr\u001b[39m\u001b[33m'\u001b[39m},\n\u001b[32m     10\u001b[39m     key=\u001b[33m'\u001b[39m\u001b[33mVOUCPVL885EBI9KIZ212\u001b[39m\u001b[33m'\u001b[39m, \n\u001b[32m     11\u001b[39m     secret=\u001b[33m'\u001b[39m\u001b[33mz682Yreg8T7cwSGTRNzxbkWtQbdguR8kf7gT6OAm\u001b[39m\u001b[33m'\u001b[39m  \n\u001b[32m     12\u001b[39m     )\n\u001b[32m---> \u001b[39m\u001b[32m14\u001b[39m \u001b[43mfs\u001b[49m\u001b[43m.\u001b[49m\u001b[43mls\u001b[49m\u001b[43m(\u001b[49m\u001b[43mCHEMIN_FICHIER\u001b[49m\u001b[43m)\u001b[49m\n",
      "\u001b[36mFile \u001b[39m\u001b[32m/opt/conda/lib/python3.12/site-packages/fsspec/asyn.py:118\u001b[39m, in \u001b[36msync_wrapper.<locals>.wrapper\u001b[39m\u001b[34m(*args, **kwargs)\u001b[39m\n\u001b[32m    115\u001b[39m \u001b[38;5;129m@functools\u001b[39m.wraps(func)\n\u001b[32m    116\u001b[39m \u001b[38;5;28;01mdef\u001b[39;00m\u001b[38;5;250m \u001b[39m\u001b[34mwrapper\u001b[39m(*args, **kwargs):\n\u001b[32m    117\u001b[39m     \u001b[38;5;28mself\u001b[39m = obj \u001b[38;5;129;01mor\u001b[39;00m args[\u001b[32m0\u001b[39m]\n\u001b[32m--> \u001b[39m\u001b[32m118\u001b[39m     \u001b[38;5;28;01mreturn\u001b[39;00m \u001b[43msync\u001b[49m\u001b[43m(\u001b[49m\u001b[38;5;28;43mself\u001b[39;49m\u001b[43m.\u001b[49m\u001b[43mloop\u001b[49m\u001b[43m,\u001b[49m\u001b[43m \u001b[49m\u001b[43mfunc\u001b[49m\u001b[43m,\u001b[49m\u001b[43m \u001b[49m\u001b[43m*\u001b[49m\u001b[43margs\u001b[49m\u001b[43m,\u001b[49m\u001b[43m \u001b[49m\u001b[43m*\u001b[49m\u001b[43m*\u001b[49m\u001b[43mkwargs\u001b[49m\u001b[43m)\u001b[49m\n",
      "\u001b[36mFile \u001b[39m\u001b[32m/opt/conda/lib/python3.12/site-packages/fsspec/asyn.py:103\u001b[39m, in \u001b[36msync\u001b[39m\u001b[34m(loop, func, timeout, *args, **kwargs)\u001b[39m\n\u001b[32m    101\u001b[39m     \u001b[38;5;28;01mraise\u001b[39;00m FSTimeoutError \u001b[38;5;28;01mfrom\u001b[39;00m\u001b[38;5;250m \u001b[39m\u001b[34;01mreturn_result\u001b[39;00m\n\u001b[32m    102\u001b[39m \u001b[38;5;28;01melif\u001b[39;00m \u001b[38;5;28misinstance\u001b[39m(return_result, \u001b[38;5;167;01mBaseException\u001b[39;00m):\n\u001b[32m--> \u001b[39m\u001b[32m103\u001b[39m     \u001b[38;5;28;01mraise\u001b[39;00m return_result\n\u001b[32m    104\u001b[39m \u001b[38;5;28;01melse\u001b[39;00m:\n\u001b[32m    105\u001b[39m     \u001b[38;5;28;01mreturn\u001b[39;00m return_result\n",
      "\u001b[36mFile \u001b[39m\u001b[32m/opt/conda/lib/python3.12/site-packages/fsspec/asyn.py:56\u001b[39m, in \u001b[36m_runner\u001b[39m\u001b[34m(event, coro, result, timeout)\u001b[39m\n\u001b[32m     54\u001b[39m     coro = asyncio.wait_for(coro, timeout=timeout)\n\u001b[32m     55\u001b[39m \u001b[38;5;28;01mtry\u001b[39;00m:\n\u001b[32m---> \u001b[39m\u001b[32m56\u001b[39m     result[\u001b[32m0\u001b[39m] = \u001b[38;5;28;01mawait\u001b[39;00m coro\n\u001b[32m     57\u001b[39m \u001b[38;5;28;01mexcept\u001b[39;00m \u001b[38;5;167;01mException\u001b[39;00m \u001b[38;5;28;01mas\u001b[39;00m ex:\n\u001b[32m     58\u001b[39m     result[\u001b[32m0\u001b[39m] = ex\n",
      "\u001b[36mFile \u001b[39m\u001b[32m/opt/conda/lib/python3.12/site-packages/s3fs/core.py:1040\u001b[39m, in \u001b[36mS3FileSystem._ls\u001b[39m\u001b[34m(self, path, detail, refresh, versions)\u001b[39m\n\u001b[32m   1038\u001b[39m     files = \u001b[38;5;28;01mawait\u001b[39;00m \u001b[38;5;28mself\u001b[39m._lsbuckets(refresh)\n\u001b[32m   1039\u001b[39m \u001b[38;5;28;01melse\u001b[39;00m:\n\u001b[32m-> \u001b[39m\u001b[32m1040\u001b[39m     files = \u001b[38;5;28;01mawait\u001b[39;00m \u001b[38;5;28mself\u001b[39m._lsdir(path, refresh, versions=versions)\n\u001b[32m   1041\u001b[39m     \u001b[38;5;28;01mif\u001b[39;00m \u001b[38;5;129;01mnot\u001b[39;00m files \u001b[38;5;129;01mand\u001b[39;00m \u001b[33m\"\u001b[39m\u001b[33m/\u001b[39m\u001b[33m\"\u001b[39m \u001b[38;5;129;01min\u001b[39;00m path:\n\u001b[32m   1042\u001b[39m         \u001b[38;5;28;01mtry\u001b[39;00m:\n",
      "\u001b[36mFile \u001b[39m\u001b[32m/opt/conda/lib/python3.12/site-packages/s3fs/core.py:768\u001b[39m, in \u001b[36mS3FileSystem._lsdir\u001b[39m\u001b[34m(self, path, refresh, max_items, delimiter, prefix, versions)\u001b[39m\n\u001b[32m    766\u001b[39m     files += dirs\n\u001b[32m    767\u001b[39m \u001b[38;5;28;01mexcept\u001b[39;00m ClientError \u001b[38;5;28;01mas\u001b[39;00m e:\n\u001b[32m--> \u001b[39m\u001b[32m768\u001b[39m     \u001b[38;5;28;01mraise\u001b[39;00m translate_boto_error(e)\n\u001b[32m    770\u001b[39m \u001b[38;5;28;01mif\u001b[39;00m delimiter \u001b[38;5;129;01mand\u001b[39;00m files \u001b[38;5;129;01mand\u001b[39;00m \u001b[38;5;129;01mnot\u001b[39;00m versions:\n\u001b[32m    771\u001b[39m     \u001b[38;5;28mself\u001b[39m.dircache[path] = files\n",
      "\u001b[31mPermissionError\u001b[39m: The Access Key Id you provided does not exist in our records."
     ]
    }
   ],
   "source": [
    "import s3fs\n",
    "import pandas as pd\n",
    "\n",
    "MY_BUCKET = \"paultoudret\"\n",
    "\n",
    "CHEMIN_FICHIER = \"paultoudret/ensae-reproductibilite/Phoetry/Poem_models/poet_gpt2/\"\n",
    "\n",
    "fs = s3fs.S3FileSystem(\n",
    "    client_kwargs={'endpoint_url': 'https://'+'minio.lab.sspcloud.fr'},\n",
    "    key='VOUCPVL885EBI9KIZ212', \n",
    "    secret='z682Yreg8T7cwSGTRNzxbkWtQbdguR8kf7gT6OAm'  \n",
    "    )\n",
    "\n",
    "fs.ls(CHEMIN_FICHIER)\n",
    "\n"
   ]
  }
 ],
 "metadata": {
  "kernelspec": {
   "display_name": "base",
   "language": "python",
   "name": "python3"
  },
  "language_info": {
   "codemirror_mode": {
    "name": "ipython",
    "version": 3
   },
   "file_extension": ".py",
   "mimetype": "text/x-python",
   "name": "python",
   "nbconvert_exporter": "python",
   "pygments_lexer": "ipython3",
   "version": "3.12.9"
  }
 },
 "nbformat": 4,
 "nbformat_minor": 2
}
