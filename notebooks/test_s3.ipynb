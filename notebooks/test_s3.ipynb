{
 "cells": [
  {
   "cell_type": "code",
   "execution_count": 1,
   "metadata": {},
   "outputs": [
    {
     "data": {
      "text/plain": [
       "['paultoudret/ensae-reproductibilite/Phoetry/Poem_models/poet_gpt2/.keep',\n",
       " 'paultoudret/ensae-reproductibilite/Phoetry/Poem_models/poet_gpt2/added_tokens.json',\n",
       " 'paultoudret/ensae-reproductibilite/Phoetry/Poem_models/poet_gpt2/config.json',\n",
       " 'paultoudret/ensae-reproductibilite/Phoetry/Poem_models/poet_gpt2/generation_config.json',\n",
       " 'paultoudret/ensae-reproductibilite/Phoetry/Poem_models/poet_gpt2/merges.txt',\n",
       " 'paultoudret/ensae-reproductibilite/Phoetry/Poem_models/poet_gpt2/model.safetensors',\n",
       " 'paultoudret/ensae-reproductibilite/Phoetry/Poem_models/poet_gpt2/special_tokens_map.json',\n",
       " 'paultoudret/ensae-reproductibilite/Phoetry/Poem_models/poet_gpt2/tokenizer_config.json',\n",
       " 'paultoudret/ensae-reproductibilite/Phoetry/Poem_models/poet_gpt2/vocab.json']"
      ]
     },
     "execution_count": 1,
     "metadata": {},
     "output_type": "execute_result"
    }
   ],
   "source": [
    "import s3fs\n",
    "import pandas as pd\n",
    "\n",
    "MY_BUCKET = \"paultoudret\"\n",
    "\n",
    "CHEMIN_FICHIER = \"paultoudret/ensae-reproductibilite/Phoetry/Poem_models/poet_gpt2/\"\n",
    "\n",
    "fs = s3fs.S3FileSystem(\n",
    "    client_kwargs={'endpoint_url': 'https://'+'minio.lab.sspcloud.fr'})\n",
    "\n",
    "fs.ls(CHEMIN_FICHIER)\n",
    "\n"
   ]
  }
 ],
 "metadata": {
  "kernelspec": {
   "display_name": "base",
   "language": "python",
   "name": "python3"
  },
  "language_info": {
   "codemirror_mode": {
    "name": "ipython",
    "version": 3
   },
   "file_extension": ".py",
   "mimetype": "text/x-python",
   "name": "python",
   "nbconvert_exporter": "python",
   "pygments_lexer": "ipython3",
   "version": "3.12.9"
  }
 },
 "nbformat": 4,
 "nbformat_minor": 2
}
